{
 "cells": [
  {
   "cell_type": "code",
   "execution_count": 1,
   "id": "8ecee94c-7d86-4124-a5c6-28e678918f57",
   "metadata": {},
   "outputs": [
    {
     "name": "stderr",
     "output_type": "stream",
     "text": [
      "2024-11-28 20:48:16.361656: I external/local_xla/xla/tsl/cuda/cudart_stub.cc:32] Could not find cuda drivers on your machine, GPU will not be used.\n",
      "2024-11-28 20:48:16.365176: I external/local_xla/xla/tsl/cuda/cudart_stub.cc:32] Could not find cuda drivers on your machine, GPU will not be used.\n",
      "2024-11-28 20:48:16.376341: E external/local_xla/xla/stream_executor/cuda/cuda_fft.cc:477] Unable to register cuFFT factory: Attempting to register factory for plugin cuFFT when one has already been registered\n",
      "WARNING: All log messages before absl::InitializeLog() is called are written to STDERR\n",
      "E0000 00:00:1732807096.395284   26083 cuda_dnn.cc:8310] Unable to register cuDNN factory: Attempting to register factory for plugin cuDNN when one has already been registered\n",
      "E0000 00:00:1732807096.400885   26083 cuda_blas.cc:1418] Unable to register cuBLAS factory: Attempting to register factory for plugin cuBLAS when one has already been registered\n"
     ]
    }
   ],
   "source": [
    "import keras\n",
    "from keras import models\n",
    "from keras import layers\n",
    "import numpy as np\n",
    "import matplotlib.pyplot as plt"
   ]
  },
  {
   "cell_type": "code",
   "execution_count": 2,
   "id": "679b740f-2945-4742-a218-f6d177deb8e5",
   "metadata": {},
   "outputs": [],
   "source": [
    "from keras.datasets import imdb"
   ]
  },
  {
   "cell_type": "code",
   "execution_count": 3,
   "id": "97623ccf-d0b5-4ba3-bf89-3d094ad2cbd6",
   "metadata": {},
   "outputs": [],
   "source": [
    "(train_imdb, train_imdb_labels),(test_imdb, test_imdb_labels) = imdb.load_data(num_words=10000)"
   ]
  },
  {
   "cell_type": "code",
   "execution_count": 4,
   "id": "f1b16311-d5fb-480b-aa3f-0c0fa6a7ddae",
   "metadata": {},
   "outputs": [
    {
     "name": "stdout",
     "output_type": "stream",
     "text": [
      "(25000,)\n",
      "(25000,)\n"
     ]
    }
   ],
   "source": [
    "print(train_imdb.shape)\n",
    "print(test_imdb.shape)"
   ]
  },
  {
   "cell_type": "code",
   "execution_count": 5,
   "id": "347106da-40e1-4929-8f54-42f5d3ff35b8",
   "metadata": {},
   "outputs": [
    {
     "data": {
      "text/plain": [
       "9999"
      ]
     },
     "execution_count": 5,
     "metadata": {},
     "output_type": "execute_result"
    }
   ],
   "source": [
    "max([max(token) for token in train_imdb])"
   ]
  },
  {
   "cell_type": "markdown",
   "id": "52706626-5408-42b4-b914-b2599ba695b6",
   "metadata": {},
   "source": [
    "We can see that since we loaded the top 10000 most occuring words the max token index is 9999."
   ]
  },
  {
   "cell_type": "code",
   "execution_count": 6,
   "id": "bf927580-1fc7-4164-97b8-a3ca01d29878",
   "metadata": {},
   "outputs": [
    {
     "name": "stdout",
     "output_type": "stream",
     "text": [
      "Train[0] token length: 218\n",
      "Train[1] token length: 189\n",
      "Train[2] token length: 141\n",
      "Train[3] token length: 550\n",
      "Train[4] token length: 147\n"
     ]
    }
   ],
   "source": [
    "# let us check length of tokens in the first 5 rows of the training dataset\n",
    "for i in range(5):\n",
    "    print(f\"Train[{i}] token length: {len(train_imdb[i])}\")"
   ]
  },
  {
   "cell_type": "markdown",
   "id": "0be7898a-59c5-48e8-9501-c5baca45f351",
   "metadata": {},
   "source": [
    "We can see that there are variable length of the token indices for each row since the review text length will be different mostly."
   ]
  },
  {
   "cell_type": "markdown",
   "id": "8abc8912-e87f-4d69-9748-aa7e7e7ca274",
   "metadata": {},
   "source": [
    "### Can we get the review text from tokens??"
   ]
  },
  {
   "cell_type": "code",
   "execution_count": 10,
   "id": "9e0e1f4e-44c8-4cb9-add8-b3d9804a908f",
   "metadata": {},
   "outputs": [
    {
     "data": {
      "text/plain": [
       "\"? this film was just brilliant casting location scenery story direction everyone's really suited the part they played and you could just imagine being there robert ? is an amazing actor and now the same being director ? father came from the same scottish island as myself so i loved the fact there was a real connection with this film the witty remarks throughout the film were great it was just brilliant so much that i bought the film as soon as it was released for ? and would recommend it to everyone to watch and the fly fishing was amazing really cried at the end it was so sad and you know what they say if you cry at a film it must have been good and this definitely was also ? to the two little boy's that played the ? of norman and paul they were just brilliant children are often left out of the ? list i think because the stars that play them all grown up are such a big profile for the whole film but these children are amazing and should be praised for what they have done don't you think the whole story was so lovely because it was true and was someone's life after all that was shared with us all\""
      ]
     },
     "execution_count": 10,
     "metadata": {},
     "output_type": "execute_result"
    }
   ],
   "source": [
    "# Get the word index which is a word to index mapping dict\n",
    "word_index = imdb.get_word_index()\n",
    "# Get the reversed dictionary\n",
    "reversed_word_index = dict([(value, key) for key, value in word_index.items()])\n",
    "decoded_string = \" \".join([reversed_word_index.get(i-3, \"?\") for i in train_imdb[0]])\n",
    "decoded_string"
   ]
  },
  {
   "cell_type": "markdown",
   "id": "4236fc93-4e2f-4607-a19c-7cc94aa68460",
   "metadata": {},
   "source": [
    "## Vectorize the training dataset"
   ]
  },
  {
   "cell_type": "code",
   "execution_count": 9,
   "id": "677f935d-eac3-4b29-96b4-7a3a258a3c83",
   "metadata": {},
   "outputs": [],
   "source": [
    "train_imdb_vectorized = np.zeros((train_imdb.shape[0], 10000))\n",
    "test_imdb_vectorized = np.zeros((test_imdb.shape[0], 10000))"
   ]
  },
  {
   "cell_type": "code",
   "execution_count": 10,
   "id": "cec05b43-f954-4f94-9592-d1badbdce7af",
   "metadata": {},
   "outputs": [
    {
     "data": {
      "text/plain": [
       "array([0., 1., 1., ..., 0., 0., 0.])"
      ]
     },
     "execution_count": 10,
     "metadata": {},
     "output_type": "execute_result"
    }
   ],
   "source": [
    "for idx, row in enumerate(train_imdb[:5]):\n",
    "    train_imdb_vectorized[idx, row] = 1\n",
    "\n",
    "train_imdb_vectorized[0]"
   ]
  },
  {
   "cell_type": "code",
   "execution_count": 11,
   "id": "03a6339a-0a90-41e1-ac22-2b123b8ec0df",
   "metadata": {},
   "outputs": [
    {
     "data": {
      "text/plain": [
       "218"
      ]
     },
     "execution_count": 11,
     "metadata": {},
     "output_type": "execute_result"
    }
   ],
   "source": [
    "len(train_imdb[0])"
   ]
  },
  {
   "cell_type": "code",
   "execution_count": 12,
   "id": "d2c53d8f-f19f-4727-b322-88b05824de57",
   "metadata": {},
   "outputs": [
    {
     "data": {
      "text/plain": [
       "np.float64(120.0)"
      ]
     },
     "execution_count": 12,
     "metadata": {},
     "output_type": "execute_result"
    }
   ],
   "source": [
    "sum(train_imdb_vectorized[0])"
   ]
  },
  {
   "cell_type": "markdown",
   "id": "b0c050e7-093d-4285-872a-26fe52f120c7",
   "metadata": {},
   "source": [
    "Since we are looking at text tokens of which some tokens can be repeated thus sum of OHE vector is less than length of the training instance list "
   ]
  },
  {
   "cell_type": "code",
   "execution_count": 13,
   "id": "b01be690-4e33-4110-a625-751af943c97b",
   "metadata": {},
   "outputs": [],
   "source": [
    "# Let us write a function\n",
    "def vectorize_sequences(sequences, dimension=10000):\n",
    "    results = np.zeros((len(sequences), dimension))\n",
    "    for  i, sequence in enumerate(sequences):\n",
    "        results[i,sequence]=1\n",
    "    return results\n",
    "\n",
    "x_train = vectorize_sequences(train_imdb)\n",
    "x_test = vectorize_sequences(test_imdb)"
   ]
  },
  {
   "cell_type": "code",
   "execution_count": 14,
   "id": "e35a33a6-0662-4cb2-825b-e7b5c42f45b4",
   "metadata": {},
   "outputs": [
    {
     "data": {
      "text/plain": [
       "(25000, 10000)"
      ]
     },
     "execution_count": 14,
     "metadata": {},
     "output_type": "execute_result"
    }
   ],
   "source": [
    "x_train.shape"
   ]
  },
  {
   "cell_type": "code",
   "execution_count": 15,
   "id": "e7a9180a-b49c-4468-b7a8-7934f72d9edf",
   "metadata": {},
   "outputs": [
    {
     "data": {
      "text/plain": [
       "(25000, 10000)"
      ]
     },
     "execution_count": 15,
     "metadata": {},
     "output_type": "execute_result"
    }
   ],
   "source": [
    "x_test.shape"
   ]
  },
  {
   "cell_type": "code",
   "execution_count": 16,
   "id": "dd330f35-aa16-4863-84e2-9df53b32ba82",
   "metadata": {},
   "outputs": [],
   "source": [
    "y_train = np.asarray(train_imdb_labels).astype(\"float32\")\n",
    "y_test = np.asarray(test_imdb_labels).astype(\"float32\")"
   ]
  },
  {
   "cell_type": "markdown",
   "id": "9333d1ff-f7c6-4028-8837-cb5d42f238aa",
   "metadata": {},
   "source": [
    "### Lets build our first simple model"
   ]
  },
  {
   "cell_type": "code",
   "execution_count": 18,
   "id": "0f84deac-caec-46d8-8e00-9d01973e9ca0",
   "metadata": {},
   "outputs": [],
   "source": [
    "model_1 = models.Sequential()"
   ]
  },
  {
   "cell_type": "code",
   "execution_count": 19,
   "id": "cc8e620e-b54e-46be-b0cc-7467be66a9cf",
   "metadata": {},
   "outputs": [
    {
     "name": "stderr",
     "output_type": "stream",
     "text": [
      "/mnt/hdd/StudySpace/DL_Chollet/venv/lib/python3.10/site-packages/keras/src/layers/core/dense.py:87: UserWarning: Do not pass an `input_shape`/`input_dim` argument to a layer. When using Sequential models, prefer using an `Input(shape)` object as the first layer in the model instead.\n",
      "  super().__init__(activity_regularizer=activity_regularizer, **kwargs)\n",
      "2024-11-27 10:52:23.523750: E external/local_xla/xla/stream_executor/cuda/cuda_driver.cc:152] failed call to cuInit: INTERNAL: CUDA error: Failed call to cuInit: UNKNOWN ERROR (303)\n"
     ]
    }
   ],
   "source": [
    "model_1.add(layers.Dense(16, activation=\"relu\", input_shape=(10000,)))\n",
    "model_1.add(layers.Dense(16, activation=\"relu\"))\n",
    "model_1.add(layers.Dense(1, activation=\"sigmoid\"))"
   ]
  },
  {
   "cell_type": "code",
   "execution_count": 21,
   "id": "144206d6-c229-411e-9b0f-c71e904faabc",
   "metadata": {},
   "outputs": [],
   "source": [
    "# Create a validation set to check the accuracy\n",
    "x_val = x_train[:10000]\n",
    "partial_x_train = x_train[10000:]\n",
    "y_val = y_train[:10000]\n",
    "partial_y_train = y_train[10000:]"
   ]
  },
  {
   "cell_type": "code",
   "execution_count": 22,
   "id": "1400b187-8c9c-47e4-b24f-a027bca92943",
   "metadata": {},
   "outputs": [
    {
     "name": "stdout",
     "output_type": "stream",
     "text": [
      "Epoch 1/20\n"
     ]
    },
    {
     "name": "stderr",
     "output_type": "stream",
     "text": [
      "2024-11-27 11:04:37.668171: W external/local_xla/xla/tsl/framework/cpu_allocator_impl.cc:83] Allocation of 600000000 exceeds 10% of free system memory.\n"
     ]
    },
    {
     "name": "stdout",
     "output_type": "stream",
     "text": [
      "\u001b[1m28/30\u001b[0m \u001b[32m━━━━━━━━━━━━━━━━━━\u001b[0m\u001b[37m━━\u001b[0m \u001b[1m0s\u001b[0m 13ms/step - accuracy: 0.6642 - loss: 0.6380"
     ]
    },
    {
     "name": "stderr",
     "output_type": "stream",
     "text": [
      "2024-11-27 11:04:40.207500: W external/local_xla/xla/tsl/framework/cpu_allocator_impl.cc:83] Allocation of 400000000 exceeds 10% of free system memory.\n"
     ]
    },
    {
     "name": "stdout",
     "output_type": "stream",
     "text": [
      "\u001b[1m30/30\u001b[0m \u001b[32m━━━━━━━━━━━━━━━━━━━━\u001b[0m\u001b[37m\u001b[0m \u001b[1m3s\u001b[0m 45ms/step - accuracy: 0.6736 - loss: 0.6313 - val_accuracy: 0.8478 - val_loss: 0.4412\n",
      "Epoch 2/20\n",
      "\u001b[1m30/30\u001b[0m \u001b[32m━━━━━━━━━━━━━━━━━━━━\u001b[0m\u001b[37m\u001b[0m \u001b[1m1s\u001b[0m 17ms/step - accuracy: 0.8861 - loss: 0.3803 - val_accuracy: 0.8797 - val_loss: 0.3341\n",
      "Epoch 3/20\n",
      "\u001b[1m30/30\u001b[0m \u001b[32m━━━━━━━━━━━━━━━━━━━━\u001b[0m\u001b[37m\u001b[0m \u001b[1m1s\u001b[0m 16ms/step - accuracy: 0.9119 - loss: 0.2739 - val_accuracy: 0.8779 - val_loss: 0.3113\n",
      "Epoch 4/20\n",
      "\u001b[1m30/30\u001b[0m \u001b[32m━━━━━━━━━━━━━━━━━━━━\u001b[0m\u001b[37m\u001b[0m \u001b[1m1s\u001b[0m 18ms/step - accuracy: 0.9323 - loss: 0.2170 - val_accuracy: 0.8901 - val_loss: 0.2752\n",
      "Epoch 5/20\n",
      "\u001b[1m30/30\u001b[0m \u001b[32m━━━━━━━━━━━━━━━━━━━━\u001b[0m\u001b[37m\u001b[0m \u001b[1m1s\u001b[0m 17ms/step - accuracy: 0.9454 - loss: 0.1742 - val_accuracy: 0.8884 - val_loss: 0.2804\n",
      "Epoch 6/20\n",
      "\u001b[1m30/30\u001b[0m \u001b[32m━━━━━━━━━━━━━━━━━━━━\u001b[0m\u001b[37m\u001b[0m \u001b[1m1s\u001b[0m 19ms/step - accuracy: 0.9504 - loss: 0.1534 - val_accuracy: 0.8851 - val_loss: 0.2869\n",
      "Epoch 7/20\n",
      "\u001b[1m30/30\u001b[0m \u001b[32m━━━━━━━━━━━━━━━━━━━━\u001b[0m\u001b[37m\u001b[0m \u001b[1m1s\u001b[0m 16ms/step - accuracy: 0.9593 - loss: 0.1342 - val_accuracy: 0.8874 - val_loss: 0.2842\n",
      "Epoch 8/20\n",
      "\u001b[1m30/30\u001b[0m \u001b[32m━━━━━━━━━━━━━━━━━━━━\u001b[0m\u001b[37m\u001b[0m \u001b[1m1s\u001b[0m 17ms/step - accuracy: 0.9697 - loss: 0.1123 - val_accuracy: 0.8850 - val_loss: 0.2955\n",
      "Epoch 9/20\n",
      "\u001b[1m30/30\u001b[0m \u001b[32m━━━━━━━━━━━━━━━━━━━━\u001b[0m\u001b[37m\u001b[0m \u001b[1m1s\u001b[0m 18ms/step - accuracy: 0.9757 - loss: 0.0931 - val_accuracy: 0.8853 - val_loss: 0.3087\n",
      "Epoch 10/20\n",
      "\u001b[1m30/30\u001b[0m \u001b[32m━━━━━━━━━━━━━━━━━━━━\u001b[0m\u001b[37m\u001b[0m \u001b[1m1s\u001b[0m 16ms/step - accuracy: 0.9787 - loss: 0.0833 - val_accuracy: 0.8781 - val_loss: 0.3470\n",
      "Epoch 11/20\n",
      "\u001b[1m30/30\u001b[0m \u001b[32m━━━━━━━━━━━━━━━━━━━━\u001b[0m\u001b[37m\u001b[0m \u001b[1m1s\u001b[0m 17ms/step - accuracy: 0.9824 - loss: 0.0704 - val_accuracy: 0.8782 - val_loss: 0.3455\n",
      "Epoch 12/20\n",
      "\u001b[1m30/30\u001b[0m \u001b[32m━━━━━━━━━━━━━━━━━━━━\u001b[0m\u001b[37m\u001b[0m \u001b[1m1s\u001b[0m 16ms/step - accuracy: 0.9853 - loss: 0.0616 - val_accuracy: 0.8790 - val_loss: 0.3592\n",
      "Epoch 13/20\n",
      "\u001b[1m30/30\u001b[0m \u001b[32m━━━━━━━━━━━━━━━━━━━━\u001b[0m\u001b[37m\u001b[0m \u001b[1m1s\u001b[0m 17ms/step - accuracy: 0.9893 - loss: 0.0507 - val_accuracy: 0.8707 - val_loss: 0.4190\n",
      "Epoch 14/20\n",
      "\u001b[1m30/30\u001b[0m \u001b[32m━━━━━━━━━━━━━━━━━━━━\u001b[0m\u001b[37m\u001b[0m \u001b[1m1s\u001b[0m 17ms/step - accuracy: 0.9899 - loss: 0.0449 - val_accuracy: 0.8787 - val_loss: 0.4013\n",
      "Epoch 15/20\n",
      "\u001b[1m30/30\u001b[0m \u001b[32m━━━━━━━━━━━━━━━━━━━━\u001b[0m\u001b[37m\u001b[0m \u001b[1m1s\u001b[0m 18ms/step - accuracy: 0.9940 - loss: 0.0349 - val_accuracy: 0.8757 - val_loss: 0.4229\n",
      "Epoch 16/20\n",
      "\u001b[1m30/30\u001b[0m \u001b[32m━━━━━━━━━━━━━━━━━━━━\u001b[0m\u001b[37m\u001b[0m \u001b[1m1s\u001b[0m 17ms/step - accuracy: 0.9954 - loss: 0.0298 - val_accuracy: 0.8744 - val_loss: 0.4458\n",
      "Epoch 17/20\n",
      "\u001b[1m30/30\u001b[0m \u001b[32m━━━━━━━━━━━━━━━━━━━━\u001b[0m\u001b[37m\u001b[0m \u001b[1m1s\u001b[0m 16ms/step - accuracy: 0.9962 - loss: 0.0255 - val_accuracy: 0.8734 - val_loss: 0.4678\n",
      "Epoch 18/20\n",
      "\u001b[1m30/30\u001b[0m \u001b[32m━━━━━━━━━━━━━━━━━━━━\u001b[0m\u001b[37m\u001b[0m \u001b[1m1s\u001b[0m 17ms/step - accuracy: 0.9962 - loss: 0.0234 - val_accuracy: 0.8737 - val_loss: 0.4970\n",
      "Epoch 19/20\n",
      "\u001b[1m30/30\u001b[0m \u001b[32m━━━━━━━━━━━━━━━━━━━━\u001b[0m\u001b[37m\u001b[0m \u001b[1m1s\u001b[0m 17ms/step - accuracy: 0.9985 - loss: 0.0181 - val_accuracy: 0.8722 - val_loss: 0.5096\n",
      "Epoch 20/20\n",
      "\u001b[1m30/30\u001b[0m \u001b[32m━━━━━━━━━━━━━━━━━━━━\u001b[0m\u001b[37m\u001b[0m \u001b[1m1s\u001b[0m 19ms/step - accuracy: 0.9989 - loss: 0.0143 - val_accuracy: 0.8707 - val_loss: 0.5311\n"
     ]
    }
   ],
   "source": [
    "model_1.compile(optimizer=\"rmsprop\", loss = \"binary_crossentropy\", metrics= [\"accuracy\"])\n",
    "history = model_1.fit(x=partial_x_train,y=partial_y_train,batch_size=512,epochs=20,validation_data=(x_val, y_val))"
   ]
  },
  {
   "cell_type": "code",
   "execution_count": 28,
   "id": "0d0f5ff0-d7ee-4170-9c15-a5ce4ae08684",
   "metadata": {},
   "outputs": [
    {
     "data": {
      "image/png": "[encoded data removed]",
      "text/plain": [
       "<Figure size 640x480 with 1 Axes>"
      ]
     },
     "metadata": {},
     "output_type": "display_data"
    }
   ],
   "source": [
    "history_dict = history.history\n",
    "loss_values = history_dict['loss']\n",
    "val_loss_values = history_dict['val_loss']\n",
    "epochs = range(1, len(loss_values)+1)\n",
    "\n",
    "plt.plot(epochs, loss_values, \"bo\", label = \"Training Loss\")\n",
    "plt.plot(epochs, val_loss_values, \"b\", label = \"Validation Loss\")\n",
    "plt.title(\"Training and validation loss\")\n",
    "plt.xlabel(\"Epochs\")\n",
    "plt.ylabel(\"Loss\")\n",
    "plt.legend()\n",
    "plt.show()\n"
   ]
  },
  {
   "cell_type": "code",
   "execution_count": 29,
   "id": "51736be0-6a68-4014-b765-535777c1dc14",
   "metadata": {},
   "outputs": [],
   "source": [
    "acc_values = history_dict['accuracy']\n",
    "val_acc_values = history_dict['val_accuracy']"
   ]
  },
  {
   "cell_type": "code",
   "execution_count": 32,
   "id": "1c203b7d-78cb-4550-881a-78241949b322",
   "metadata": {},
   "outputs": [
    {
     "data": {
      "image/png": "[encoded data removed]",
      "text/plain": [
       "<Figure size 640x480 with 1 Axes>"
      ]
     },
     "metadata": {},
     "output_type": "display_data"
    }
   ],
   "source": [
    "plt.plot(epochs, acc_values, \"bo\", label = \"Training Accuracy\")\n",
    "plt.plot(epochs, val_acc_values, \"b\", label = \"Validation Accuracy\")\n",
    "plt.title(\"Training and validation accuracy\")\n",
    "plt.xlabel(\"Epochs\")\n",
    "plt.ylabel(\"Accuracy\")\n",
    "plt.legend()\n",
    "plt.show()\n"
   ]
  },
  {
   "cell_type": "markdown",
   "id": "f7f01d2f-1045-4584-bed3-b5d7c5918750",
   "metadata": {},
   "source": [
    "We can see there is a overfitting in this network and training model for the 4 epochs is best for the accuracy"
   ]
  },
  {
   "cell_type": "code",
   "execution_count": 39,
   "id": "77843928-b3d8-4c2e-96b5-fec0c1c69e3d",
   "metadata": {},
   "outputs": [
    {
     "name": "stdout",
     "output_type": "stream",
     "text": [
      "Epoch 1/4\n",
      "\u001b[1m49/49\u001b[0m \u001b[32m━━━━━━━━━━━━━━━━━━━━\u001b[0m\u001b[37m\u001b[0m \u001b[1m1s\u001b[0m 11ms/step - accuracy: 0.7143 - loss: 0.5653\n",
      "Epoch 2/4\n",
      "\u001b[1m49/49\u001b[0m \u001b[32m━━━━━━━━━━━━━━━━━━━━\u001b[0m\u001b[37m\u001b[0m \u001b[1m1s\u001b[0m 12ms/step - accuracy: 0.9069 - loss: 0.2791\n",
      "Epoch 3/4\n",
      "\u001b[1m49/49\u001b[0m \u001b[32m━━━━━━━━━━━━━━━━━━━━\u001b[0m\u001b[37m\u001b[0m \u001b[1m1s\u001b[0m 11ms/step - accuracy: 0.9275 - loss: 0.2110\n",
      "Epoch 4/4\n",
      "\u001b[1m49/49\u001b[0m \u001b[32m━━━━━━━━━━━━━━━━━━━━\u001b[0m\u001b[37m\u001b[0m \u001b[1m1s\u001b[0m 12ms/step - accuracy: 0.9383 - loss: 0.1810\n",
      "\u001b[1m782/782\u001b[0m \u001b[32m━━━━━━━━━━━━━━━━━━━━\u001b[0m\u001b[37m\u001b[0m \u001b[1m2s\u001b[0m 2ms/step - accuracy: 0.8840 - loss: 0.2885\n"
     ]
    },
    {
     "data": {
      "text/plain": [
       "[0.2884281575679779, 0.8853200078010559]"
      ]
     },
     "execution_count": 39,
     "metadata": {},
     "output_type": "execute_result"
    }
   ],
   "source": [
    "# Training on whole training dataset from scratch\n",
    "model = models.Sequential()\n",
    "model.add(layers.Dense(16, activation=\"relu\", input_shape=(10000,)))\n",
    "model.add(layers.Dense(16, activation=\"relu\"))\n",
    "model.add(layers.Dense(1, activation=\"sigmoid\"))\n",
    "\n",
    "model.compile(optimizer=\"rmsprop\", loss = \"binary_crossentropy\", metrics= [\"accuracy\"])\n",
    "model.fit(x=x_train, y=y_train, batch_size=512, epochs=4)\n",
    "model.evaluate(x_test, y_test)"
   ]
  },
  {
   "cell_type": "code",
   "execution_count": 40,
   "id": "7b14258b-9c4f-46d5-9eac-37b604310578",
   "metadata": {},
   "outputs": [
    {
     "name": "stdout",
     "output_type": "stream",
     "text": [
      "\u001b[1m782/782\u001b[0m \u001b[32m━━━━━━━━━━━━━━━━━━━━\u001b[0m\u001b[37m\u001b[0m \u001b[1m1s\u001b[0m 2ms/step\n"
     ]
    },
    {
     "data": {
      "text/plain": [
       "array([[0.20196168],\n",
       "       [0.9983403 ],\n",
       "       [0.53044933],\n",
       "       ...,\n",
       "       [0.08795783],\n",
       "       [0.07803646],\n",
       "       [0.61249226]], dtype=float32)"
      ]
     },
     "execution_count": 40,
     "metadata": {},
     "output_type": "execute_result"
    }
   ],
   "source": [
    "model.predict(x_test)"
   ]
  },
  {
   "cell_type": "code",
   "execution_count": null,
   "id": "73e79feb-287e-43cf-af37-f17206f3716e",
   "metadata": {},
   "outputs": [],
   "source": []
  }
 ],
 "metadata": {
  "kernelspec": {
   "display_name": "Python 3 (ipykernel)",
   "language": "python",
   "name": "python3"
  },
  "language_info": {
   "codemirror_mode": {
    "name": "ipython",
    "version": 3
   },
   "file_extension": ".py",
   "mimetype": "text/x-python",
   "name": "python",
   "nbconvert_exporter": "python",
   "pygments_lexer": "ipython3",
   "version": "3.10.7"
  }
 },
 "nbformat": 4,
 "nbformat_minor": 5
}
